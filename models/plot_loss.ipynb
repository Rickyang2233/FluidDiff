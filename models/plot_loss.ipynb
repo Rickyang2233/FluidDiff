{
 "cells": [
  {
   "cell_type": "code",
   "execution_count": 1,
   "metadata": {},
   "outputs": [],
   "source": [
    "from tensorboard.backend.event_processing import event_accumulator\n",
    "import matplotlib.pyplot as plt\n",
    "import numpy as np"
   ]
  },
  {
   "attachments": {},
   "cell_type": "markdown",
   "metadata": {},
   "source": [
    "## Burgers"
   ]
  },
  {
   "cell_type": "code",
   "execution_count": 3,
   "metadata": {},
   "outputs": [
    {
     "name": "stdout",
     "output_type": "stream",
     "text": [
      "['train/loss', 'train/dn_loss', 'train/phy_loss', 'test/loss', 'test/dn_loss', 'test/phy_loss']\n"
     ]
    }
   ],
   "source": [
    "ea = event_accumulator.EventAccumulator('./logs/burgers_0.2phyloss(ec)/events.out.tfevents.1684222412.bamf.3695745.0')\n",
    "ea.Reload()\n",
    "print(ea.scalars.Keys())"
   ]
  },
  {
   "cell_type": "code",
   "execution_count": 4,
   "metadata": {},
   "outputs": [],
   "source": [
    "train_loss = ea.scalars.Items('train/loss')\n",
    "test_loss = ea.scalars.Items('test/loss')\n",
    "train_dn_loss = ea.scalars.Items('train/dn_loss')\n",
    "train_phy_loss = ea.scalars.Items('train/phy_loss')"
   ]
  },
  {
   "cell_type": "code",
   "execution_count": 5,
   "metadata": {},
   "outputs": [
    {
     "name": "stdout",
     "output_type": "stream",
     "text": [
      "10000\n"
     ]
    }
   ],
   "source": [
    "print(len(train_loss))"
   ]
  }
 ],
 "metadata": {
  "kernelspec": {
   "display_name": "venv",
   "language": "python",
   "name": "python3"
  },
  "language_info": {
   "codemirror_mode": {
    "name": "ipython",
    "version": 3
   },
   "file_extension": ".py",
   "mimetype": "text/x-python",
   "name": "python",
   "nbconvert_exporter": "python",
   "pygments_lexer": "ipython3",
   "version": "3.10.6"
  },
  "orig_nbformat": 4
 },
 "nbformat": 4,
 "nbformat_minor": 2
}
